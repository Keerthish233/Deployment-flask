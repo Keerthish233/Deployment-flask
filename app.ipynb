{
 "cells": [
  {
   "cell_type": "code",
   "execution_count": 1,
   "id": "f37aaeef-a948-4158-aa25-090af68bf762",
   "metadata": {},
   "outputs": [],
   "source": [
    "# app.py\n",
    "from flask import Flask, render_template, request\n",
    "import joblib\n",
    "import numpy as np\n",
    "\n",
    "\n",
    "# INitialize FLask APP\n",
    "app = Flask(__name__)\n",
    "\n",
    "#Load trained model\n",
    "model = joblib.load('iris_model.pkl')"
   ]
  },
  {
   "cell_type": "code",
   "execution_count": null,
   "id": "9f2c1457-ffb8-4d0f-9942-e236805b1bd4",
   "metadata": {},
   "outputs": [],
   "source": [
    "@app.route('/')\n",
    "def home():\n",
    "    return render_template('home.html')\n",
    "\n",
    "@app.route('/predict',methods=['POST'])\n",
    "def predict():\n",
    "    try:\n",
    "        features = [float(request.form[f'feature{i}']) for i in range(1, 5)]\n",
    "    except ValueError:\n",
    "        return render_template('result.html',predictons=\"Invalid input. Please enter numeric values.\")\n",
    "\n",
    "# Make Predictions\n",
    "predictions = model.predict([features])[0]\n",
    "\n",
    "class_names = ['Setosa','Vesicolor','virginica']\n",
    "result = class_names[prediction]\n",
    "\n",
    "return render_template('result.html',prediction=result)\n",
    "\n",
    "if __name__ =='__main__':\n",
    "    app.run(debug=True)"
   ]
  }
 ],
 "metadata": {
  "kernelspec": {
   "display_name": "Python [conda env:base] *",
   "language": "python",
   "name": "conda-base-py"
  },
  "language_info": {
   "codemirror_mode": {
    "name": "ipython",
    "version": 3
   },
   "file_extension": ".py",
   "mimetype": "text/x-python",
   "name": "python",
   "nbconvert_exporter": "python",
   "pygments_lexer": "ipython3",
   "version": "3.12.7"
  }
 },
 "nbformat": 4,
 "nbformat_minor": 5
}
